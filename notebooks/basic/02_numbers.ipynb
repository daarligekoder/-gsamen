{
  "cells": [
    {
      "cell_type": "markdown",
      "metadata": {
        "id": "OVFFM_TxPuuv"
      },
      "source": [
        "# [Numbers](https://docs.python.org/3/library/stdtypes.html#numeric-types-int-float-complex)"
      ]
    },
    {
      "cell_type": "markdown",
      "metadata": {
        "id": "qSx1Q4YvPuuw"
      },
      "source": [
        "## `int`\n",
        "\n",
        "- .... -4, -3, -2, -1, 0, 1, 2, 3, 4 ....\n",
        "- Python integers can have an arbitrary number of digits (only limited by machine memory)\n",
        "- Can be preceded by a plus (+) or minus (-)"
      ]
    },
    {
      "cell_type": "code",
      "execution_count": 1,
      "metadata": {
        "scrolled": true,
        "id": "Nmds--wFPuux",
        "outputId": "7be9b3fe-a704-482e-9109-adc69f20a4d5",
        "colab": {
          "base_uri": "https://localhost:8080/"
        }
      },
      "outputs": [
        {
          "output_type": "stream",
          "name": "stdout",
          "text": [
            "value: 6, type: <class 'int'>\n"
          ]
        }
      ],
      "source": [
        "my_int = 6\n",
        "print('value: {}, type: {}'.format(my_int, type(my_int)))"
      ]
    },
    {
      "cell_type": "markdown",
      "metadata": {
        "id": "deg8cE4cPuuy"
      },
      "source": [
        "## `float`\n",
        "\n",
        "- Decimal numbers are represented using float – contain “.” or “e”\n",
        "- Examples: 3.1415 , -.00134, 124e3 = 124∙10^3"
      ]
    },
    {
      "cell_type": "code",
      "execution_count": null,
      "metadata": {
        "id": "lJb-MGjYPuuy"
      },
      "outputs": [],
      "source": [
        "type(9.0)"
      ]
    },
    {
      "cell_type": "code",
      "execution_count": null,
      "metadata": {
        "scrolled": true,
        "id": "__uJJAmZPuuy"
      },
      "outputs": [],
      "source": [
        "my_float = float(my_int)\n",
        "print('value: {}, type: {}'.format(my_float, type(my_float)))"
      ]
    },
    {
      "cell_type": "markdown",
      "metadata": {
        "id": "y7n7jxt2Puuy"
      },
      "source": [
        "Note that division of `int`s produces `float`:"
      ]
    },
    {
      "cell_type": "code",
      "execution_count": null,
      "metadata": {
        "id": "ay5s5hAkPuuy"
      },
      "outputs": [],
      "source": [
        "print(1 / 1)\n",
        "print(6 / 5)"
      ]
    },
    {
      "cell_type": "markdown",
      "metadata": {
        "id": "g7Czmb2QPuuz"
      },
      "source": [
        "Be aware of the binary floating-point pitfalls (see [Decimal](#decimal) for workaround):\n",
        "\n",
        "- *floats use approximations for speed*"
      ]
    },
    {
      "cell_type": "code",
      "execution_count": null,
      "metadata": {
        "id": "ucQR9Y9DPuuz"
      },
      "outputs": [],
      "source": [
        "print(f\"{0.1:.18f}\")"
      ]
    },
    {
      "cell_type": "code",
      "execution_count": null,
      "metadata": {
        "scrolled": true,
        "id": "lXQxFvlzPuuz"
      },
      "outputs": [],
      "source": [
        "val = 0.1 + 0.1 + 0.1\n",
        "print(val == 0.3)\n",
        "print(val)"
      ]
    },
    {
      "cell_type": "markdown",
      "metadata": {
        "id": "VoeECqX8Puuz"
      },
      "source": [
        "## Floor division `//`, modulus `%`, power `**`"
      ]
    },
    {
      "cell_type": "markdown",
      "metadata": {
        "id": "iVtrJ2UDPuuz"
      },
      "source": [
        "In Python, the floor division operator (//) is used to perform division and then return the largest possible integer. This means that the decimal part of the result is discarded."
      ]
    },
    {
      "cell_type": "code",
      "source": [],
      "metadata": {
        "id": "dCpSYB6HQBz9"
      },
      "execution_count": null,
      "outputs": []
    },
    {
      "cell_type": "code",
      "execution_count": null,
      "metadata": {
        "id": "LHhFUSiiPuuz"
      },
      "outputs": [],
      "source": [
        "7 // 5 # floor division"
      ]
    },
    {
      "cell_type": "markdown",
      "metadata": {
        "id": "ffh6WE-TPuu0"
      },
      "source": [
        "\"Regular division\""
      ]
    },
    {
      "cell_type": "code",
      "execution_count": null,
      "metadata": {
        "id": "qg_V3SVQPuu0"
      },
      "outputs": [],
      "source": [
        "7/5 # regular division"
      ]
    },
    {
      "cell_type": "markdown",
      "metadata": {
        "id": "6pvV4BtnPuu0"
      },
      "source": [
        "In Python, the modulus operator (%) is used to return the remainder of a division operation. It operates on two numbers and returns the remainder when the first number is divided by the second."
      ]
    },
    {
      "cell_type": "code",
      "execution_count": null,
      "metadata": {
        "id": "XQ6uvFmxPuu0"
      },
      "outputs": [],
      "source": [
        "7 % 5 # modulus"
      ]
    },
    {
      "cell_type": "markdown",
      "metadata": {
        "id": "7PYOvfPpPuu0"
      },
      "source": [
        "Power calculations"
      ]
    },
    {
      "cell_type": "code",
      "execution_count": null,
      "metadata": {
        "id": "VYMRdpzXPuu0"
      },
      "outputs": [],
      "source": [
        "2 ** 3 # power"
      ]
    },
    {
      "cell_type": "markdown",
      "metadata": {
        "id": "x9xYt8-7Puu0"
      },
      "source": [
        "<a id='decimal'></a>\n",
        "## [`decimal.Decimal`](https://docs.python.org/3/library/decimal.html)\n",
        "\n",
        "\n",
        "Decimals are similar to floats, but it exist in Python to solve the precision issues of floats."
      ]
    },
    {
      "cell_type": "code",
      "execution_count": null,
      "metadata": {
        "scrolled": true,
        "id": "RRwwUpMQPuu0"
      },
      "outputs": [],
      "source": [
        "from decimal import Decimal"
      ]
    },
    {
      "cell_type": "code",
      "execution_count": null,
      "metadata": {
        "scrolled": true,
        "id": "JM6eJy2hPuu1"
      },
      "outputs": [],
      "source": [
        "from_float = Decimal(0.1)\n",
        "from_str = Decimal('0.1')\n",
        "print('from float: {}\\nfrom string: {}'.format(from_float, from_str))"
      ]
    },
    {
      "cell_type": "code",
      "execution_count": null,
      "metadata": {
        "scrolled": true,
        "id": "LbMUfJHsPuu1"
      },
      "outputs": [],
      "source": [
        "my_decimal = Decimal('0.1')\n",
        "sum_of_decimals = my_decimal + my_decimal + my_decimal\n",
        "print(sum_of_decimals == Decimal('0.3'))"
      ]
    },
    {
      "cell_type": "markdown",
      "metadata": {
        "id": "j2BwK9mRPuu1"
      },
      "source": [
        "## Operator precedence in calculations\n",
        "Mathematical operator precedence applies. Use brackets if you want to change the execution order:"
      ]
    },
    {
      "cell_type": "code",
      "execution_count": null,
      "metadata": {
        "id": "KGnqsc1sPuu1"
      },
      "outputs": [],
      "source": [
        "print(1 + 2**2 * 3 / 6) # 1 + 4 * 3 / 6 == 1 + 12 / 6 == 1 + 2\n",
        "print((1 + 2**2) * 3 / 6)"
      ]
    },
    {
      "cell_type": "markdown",
      "metadata": {
        "id": "MnUiBlsbPuu1"
      },
      "source": [
        "## Switch between types\n",
        "Change between the different data types.\n",
        "`int()`, `float()`, `str()`"
      ]
    },
    {
      "cell_type": "code",
      "execution_count": null,
      "metadata": {
        "id": "pUu0H2vEPuu1"
      },
      "outputs": [],
      "source": [
        "print(\"float to integer:\", int(7.56))\n",
        "print(\"correctly rounded float to integer:\", int(round(7.56)))\n",
        "print(\"string to float:\", float(\"7.56\"))\n",
        "print(\"integer to string:\", str(2))\n",
        "print(\"float to string:\", str(6.7))"
      ]
    },
    {
      "cell_type": "markdown",
      "metadata": {
        "id": "nZC7mK9MPuu1"
      },
      "source": [
        "return to [overview](00_overview.ipynb)"
      ]
    }
  ],
  "metadata": {
    "kernelspec": {
      "display_name": "Python 3 (ipykernel)",
      "language": "python",
      "name": "python3"
    },
    "language_info": {
      "codemirror_mode": {
        "name": "ipython",
        "version": 3
      },
      "file_extension": ".py",
      "mimetype": "text/x-python",
      "name": "python",
      "nbconvert_exporter": "python",
      "pygments_lexer": "ipython3",
      "version": "3.10.12"
    },
    "colab": {
      "provenance": []
    }
  },
  "nbformat": 4,
  "nbformat_minor": 0
}